{
 "cells": [
  {
   "cell_type": "markdown",
   "id": "2186e155-c8fa-43f6-8e3d-384d15fb877c",
   "metadata": {},
   "source": [
    "# LangChain Agents Demo 🚀\n",
    "\n",
    "### Author: **Cristiano Casadei** - R&D Maggioli Group"
   ]
  },
  {
   "cell_type": "code",
   "execution_count": null,
   "id": "95a78a8a-2103-47c2-9720-6678e3125e9e",
   "metadata": {
    "tags": []
   },
   "outputs": [],
   "source": [
    "# download resources\n",
    "\n",
    "!wget https://cristianofrstorage.blob.core.windows.net/rnddays2023/RnD.tar.gz && tar xvzf RnD.tar.gz"
   ]
  },
  {
   "cell_type": "code",
   "execution_count": null,
   "id": "3e157e3d-a47f-465d-992c-5cfd1c440ffe",
   "metadata": {
    "tags": []
   },
   "outputs": [],
   "source": [
    "# I need to install some libriaries...\n",
    "\n",
    "!pip install -r requirements.txt -q"
   ]
  },
  {
   "cell_type": "code",
   "execution_count": null,
   "id": "22b8fc6b-c621-4c7f-a11d-0168b2c9a39b",
   "metadata": {
    "tags": []
   },
   "outputs": [],
   "source": [
    "# load environment variables with some secrets (will be disabled in a week...)\n",
    "\n",
    "from dotenv import load_dotenv\n",
    "\n",
    "load_dotenv(\"env\")"
   ]
  },
  {
   "cell_type": "code",
   "execution_count": null,
   "id": "e3363b38-48ef-4eb4-b42c-d5a87ca94fce",
   "metadata": {
    "tags": []
   },
   "outputs": [],
   "source": [
    "# initialize the LLM to use\n",
    "# I use GPT-3.5-Turbo that is a Chat model\n",
    "\n",
    "from langchain.llms import OpenAIChat\n",
    "\n",
    "llm = OpenAIChat(deployment_id=\"mg-gpt35-turbo\", temperature=0)"
   ]
  },
  {
   "cell_type": "code",
   "execution_count": null,
   "id": "5dea865e-ee8d-4fc1-bf77-1e38f271e59b",
   "metadata": {
    "tags": []
   },
   "outputs": [],
   "source": [
    "# initialize the tools and the agent\n",
    "\n",
    "from langchain.agents import initialize_agent, AgentType, Tool\n",
    "from langchain.utilities import GoogleSearchAPIWrapper, PythonREPL\n",
    "from langchain.tools import PythonAstREPLTool\n",
    "\n",
    "# this tool collect information on Google Search\n",
    "search = GoogleSearchAPIWrapper()\n",
    "\n",
    "# this tool can run a Python script\n",
    "python_repl = PythonAstREPLTool()\n",
    "\n",
    "# define a list of tools made available to the library\n",
    "# the description is useful for agent to decide which tool to use\n",
    "toolkit = [\n",
    "    Tool(\n",
    "        name=\"google-search\",\n",
    "        func=search.run,\n",
    "        description=\"useful for when you need to search Google to answer questions about current events\"\n",
    "    ),\n",
    "    Tool(\n",
    "        name=\"python-shell\",\n",
    "        func=python_repl.run,\n",
    "        description=\"A Python shell. Use this to execute Python commands. \" \\\n",
    "                    \"Input should be a valid Python multiline command. \" \\\n",
    "                    \"If you want to see the output of a value, you should print it out with `print(...)`.\"\n",
    "    )\n",
    "]\n",
    "\n",
    "# initialize the agent \n",
    "agent = initialize_agent(\n",
    "    toolkit,\n",
    "    llm,\n",
    "    agent=AgentType.ZERO_SHOT_REACT_DESCRIPTION,\n",
    "    handle_parsing_errors=True,\n",
    "    verbose=True  \n",
    ")"
   ]
  },
  {
   "cell_type": "markdown",
   "id": "50a49e83-57ec-4a5c-b490-05378065ea35",
   "metadata": {},
   "source": [
    "### <span style=\"color:yellow\">⚠⚠</span><span style=\"color:red\"> NOTE: logs with the agent's \"mental flows\" will be listed under the UI </span><span style=\"color:yellow\">⚠⚠</span>\n",
    "\n",
    "### Some example prompts\n",
    "\n",
    "```\n",
    "genera un articolo di giornale sui terremoti dei Campi Flegrei degli ultimi 2 mesi.\n",
    "ricerca le informazioni che ti servono in internet.\n",
    "spiega qual'è stata fin'ora l'evoluzione delle scosse, qual'è il sentimento dei cittadini e come si stanno muovendo le istituzioni per far fronte ad eventuali stati di crisi che si venissero a creare a fronte di un terremoto devastante.\n",
    "scrivi il risultato in un file \"output/articolo.txt\"\n",
    "```\n",
    "___\n",
    "```\n",
    "scrivi un file \"output/prova2.csv\".\n",
    "come intestazione usa \"Nome,Cognome,Età,Residenza\".\n",
    "riempi il file con l'intestazione seguita da 100 righe con nomi e cognomi italiani (casuali), età casuale compresa tra 18 e 60 anni, nomi di città italiane (casuali) come residenza, separati da virgola.\n",
    "```\n",
    "___\n",
    "```\n",
    "leggi il file \"dati/dati_esempio.csv\" ed elenca le persone che hanno uno stipendio <= 1.400€\n",
    "```\n",
    "___\n",
    "```\n",
    "leggi il file \"dati/dati_esempio.csv\" e riporta le informazioni in una tabella di nome \"esempio\" di un database sqlite salvato su file \"output/database.db\"\n",
    "```\n",
    "___"
   ]
  },
  {
   "cell_type": "code",
   "execution_count": null,
   "id": "af91e35e-2a6f-4832-b90e-92c5f7161107",
   "metadata": {
    "tags": []
   },
   "outputs": [],
   "source": [
    "import gradio as gr\n",
    "\n",
    "# I create a simple UI with a text input and text output\n",
    "demo = gr.Interface(\n",
    "    fn=lambda command: agent(command)[\"output\"],\n",
    "    inputs=\"text\",\n",
    "    outputs=\"text\"\n",
    ")\n",
    "\n",
    "demo.launch(share=True)"
   ]
  },
  {
   "cell_type": "code",
   "execution_count": null,
   "id": "72c76239-dd25-4b0c-ac26-c526ad9fa123",
   "metadata": {
    "tags": []
   },
   "outputs": [],
   "source": [
    "%load_ext sql\n",
    "%sql sqlite:///output/database.db"
   ]
  },
  {
   "cell_type": "code",
   "execution_count": null,
   "id": "7a848a5a-bb85-40c2-b8a4-17bbd46a8c77",
   "metadata": {
    "tags": []
   },
   "outputs": [],
   "source": [
    "%%sql\n",
    "\n",
    "select * from esempio"
   ]
  },
  {
   "cell_type": "code",
   "execution_count": null,
   "id": "5ed5ec90-8ef7-46ac-bd24-b8a563b6eb39",
   "metadata": {},
   "outputs": [],
   "source": []
  }
 ],
 "metadata": {
  "language_info": {
   "codemirror_mode": {
    "name": "ipython",
    "version": 3
   },
   "file_extension": ".py",
   "mimetype": "text/x-python",
   "name": "python",
   "nbconvert_exporter": "python",
   "pygments_lexer": "ipython3",
   "version": "3.9.18"
  }
 },
 "nbformat": 4,
 "nbformat_minor": 5
}
